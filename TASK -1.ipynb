{
 "cells": [
  {
   "cell_type": "code",
   "execution_count": 1,
   "id": "9c4da388",
   "metadata": {},
   "outputs": [
    {
     "name": "stdout",
     "output_type": "stream",
     "text": [
      "Enter any number:20\n",
      "Person can vote\n"
     ]
    }
   ],
   "source": [
    "# program to check wheather the user eligible for vote or not\n",
    "number=int(input(\"Enter any number:\"))\n",
    "if number>=18:\n",
    "    print(\"Person can vote\")\n",
    "else:\n",
    "    print(\"Person is not eligible for vote\")"
   ]
  },
  {
   "cell_type": "code",
   "execution_count": 2,
   "id": "1d3cb343",
   "metadata": {},
   "outputs": [
    {
     "name": "stdout",
     "output_type": "stream",
     "text": [
      "Enter any number:16\n",
      "Person is not eligible for vote\n"
     ]
    }
   ],
   "source": [
    "# program to check wheather the user eligible for vote or not\n",
    "number=int(input(\"Enter any number:\"))\n",
    "if number>=18:\n",
    "    print(\"Person can vote\")\n",
    "else:\n",
    "    print(\"Person is not eligible for vote\")"
   ]
  },
  {
   "cell_type": "code",
   "execution_count": 3,
   "id": "1cfa2cc8",
   "metadata": {},
   "outputs": [
    {
     "name": "stdout",
     "output_type": "stream",
     "text": [
      "Enter any number:5\n",
      "The number is positive\n"
     ]
    }
   ],
   "source": [
    "# program to check the given number is positive or negative\n",
    "number=int(input(\"Enter any number:\"))\n",
    "if number>=0:\n",
    "    print(\"The number is positive\")\n",
    "else:\n",
    "    print(\"The number is negative\")"
   ]
  },
  {
   "cell_type": "code",
   "execution_count": 4,
   "id": "8d447062",
   "metadata": {},
   "outputs": [
    {
     "name": "stdout",
     "output_type": "stream",
     "text": [
      "Enter any number:-5\n",
      "The number is negative\n"
     ]
    }
   ],
   "source": [
    "# program to check the given number is positive or negative\n",
    "number=int(input(\"Enter any number:\"))\n",
    "if number>=0:\n",
    "    print(\"The number is positive\")\n",
    "else:\n",
    "    print(\"The number is negative\")"
   ]
  },
  {
   "cell_type": "code",
   "execution_count": 5,
   "id": "1e6d3a44",
   "metadata": {},
   "outputs": [
    {
     "name": "stdout",
     "output_type": "stream",
     "text": [
      "Enter any number:8\n",
      "The number is even\n",
      "The number is even and divisible by 4\n"
     ]
    }
   ],
   "source": [
    "# program to check the given number is even or odd if it's even check which is divisible by 4 or not\n",
    "number=int(input(\"Enter any number:\"))\n",
    "if number%2==0:\n",
    "    print(\"The number is even\")\n",
    "    if number%4==0:\n",
    "       print(\"The number is even and divisible by 4\")\n",
    "    else:\n",
    "        print(\"The number is even and not divisible by 4\")\n",
    "else:\n",
    "    print(\"The number is odd\")"
   ]
  },
  {
   "cell_type": "code",
   "execution_count": 6,
   "id": "936dc4fa",
   "metadata": {},
   "outputs": [
    {
     "name": "stdout",
     "output_type": "stream",
     "text": [
      "Enter the marks of subj1:95\n",
      "Enter the marks of subj2:87\n",
      "Enter the marks of subj3:68\n",
      "THe percentage is:  83.33333333333334\n",
      "pass\n"
     ]
    }
   ],
   "source": [
    "subj1=int(input(\"Enter the marks of subj1:\"))\n",
    "subj2=int(input(\"Enter the marks of subj2:\"))\n",
    "subj3=int(input(\"Enter the marks of subj3:\"))\n",
    "total = subj1+subj2+subj3;\n",
    "average = total/3;\n",
    "percentage = (total/300)*100;\n",
    "print(\"THe percentage is: \", percentage)\n",
    "\n",
    "if percentage>90:\n",
    "    print(\"Distinction\")\n",
    "elif percentage>=50:\n",
    "    print(\"pass\")\n",
    "else:\n",
    "    print(\"fail\")"
   ]
  },
  {
   "cell_type": "code",
   "execution_count": 7,
   "id": "dcbf0841",
   "metadata": {},
   "outputs": [
    {
     "name": "stdout",
     "output_type": "stream",
     "text": [
      "Enter the marks of subj1:50\n",
      "Enter the marks of subj2:60\n",
      "Enter the marks of subj3:70\n",
      "THe percentage is:  60.0\n",
      "pass\n"
     ]
    }
   ],
   "source": [
    "subj1=int(input(\"Enter the marks of subj1:\"))\n",
    "subj2=int(input(\"Enter the marks of subj2:\"))\n",
    "subj3=int(input(\"Enter the marks of subj3:\"))\n",
    "total = subj1+subj2+subj3;\n",
    "average = total/3;\n",
    "percentage = (total/300)*100;\n",
    "print(\"THe percentage is: \", percentage)\n",
    "\n",
    "if percentage>90:\n",
    "    print(\"Distinction\")\n",
    "elif percentage>=50:\n",
    "    print(\"pass\")\n",
    "else:\n",
    "    print(\"fail\")"
   ]
  },
  {
   "cell_type": "code",
   "execution_count": 8,
   "id": "ab6a08f6",
   "metadata": {},
   "outputs": [
    {
     "name": "stdout",
     "output_type": "stream",
     "text": [
      "Enter any year:2000\n",
      "The year is leap year\n"
     ]
    }
   ],
   "source": [
    "#leap year or not\n",
    "y=int(input(\"Enter any year:\"))\n",
    "if(y%4==0):\n",
    "    if(y%100==0):\n",
    "       if(y%400==0):\n",
    "         print(\"The year is leap year\")\n",
    "       else:\n",
    "         print(\"The yaer is not leap year\")\n",
    "    else:\n",
    "      print(\"The year is leap year\")\n",
    "else:\n",
    "    print(\"The year is leap year\")"
   ]
  },
  {
   "cell_type": "code",
   "execution_count": 9,
   "id": "8bf7ed40",
   "metadata": {},
   "outputs": [
    {
     "name": "stdout",
     "output_type": "stream",
     "text": [
      "Enter any year:2015\n",
      "The year is leap year\n"
     ]
    }
   ],
   "source": [
    "#leap year or not\n",
    "y=int(input(\"Enter any year:\"))\n",
    "if(y%4==0):\n",
    "    if(y%100==0):\n",
    "       if(y%400==0):\n",
    "         print(\"The year is leap year\")\n",
    "       else:\n",
    "         print(\"The yaer is not leap year\")\n",
    "    else:\n",
    "      print(\"The year is leap year\")\n",
    "else:\n",
    "    print(\"The year is leap year\")"
   ]
  },
  {
   "cell_type": "code",
   "execution_count": null,
   "id": "2563db96",
   "metadata": {},
   "outputs": [],
   "source": []
  }
 ],
 "metadata": {
  "kernelspec": {
   "display_name": "Python 3",
   "language": "python",
   "name": "python3"
  },
  "language_info": {
   "codemirror_mode": {
    "name": "ipython",
    "version": 3
   },
   "file_extension": ".py",
   "mimetype": "text/x-python",
   "name": "python",
   "nbconvert_exporter": "python",
   "pygments_lexer": "ipython3",
   "version": "3.8.8"
  }
 },
 "nbformat": 4,
 "nbformat_minor": 5
}
