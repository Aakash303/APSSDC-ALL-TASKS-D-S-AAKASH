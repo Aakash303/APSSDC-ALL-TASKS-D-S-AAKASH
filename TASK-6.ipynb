{
 "cells": [
  {
   "cell_type": "code",
   "execution_count": 1,
   "id": "e3f66856",
   "metadata": {},
   "outputs": [
    {
     "name": "stdout",
     "output_type": "stream",
     "text": [
      "{1: 1, 2: 4, 3: 9, 4: 16, 5: 25, 6: 36, 7: 49, 8: 64, 9: 81, 10: 100, 11: 121, 12: 144, 13: 169, 14: 196, 15: 225}\n"
     ]
    }
   ],
   "source": [
    "#- Write a Python script to print a dictionary where the keys are numbers between 1 and 15 (both included) and the values are square of keys\n",
    "d={}\n",
    "for i in range(1,16):\n",
    "    d[i]=i**2\n",
    "print(d)"
   ]
  },
  {
   "cell_type": "code",
   "execution_count": 2,
   "id": "96d75a4f",
   "metadata": {},
   "outputs": [
    {
     "name": "stdout",
     "output_type": "stream",
     "text": [
      "{'berlin': 'freya', 'nairobi': 'odin', 'denver': 'thor'}\n"
     ]
    }
   ],
   "source": [
    "#- Write a Python program to map two lists into a dictionary\n",
    "k=['berlin','nairobi','denver']\n",
    "v=['freya','odin','thor']\n",
    "d=dict(zip(k,v))\n",
    "print(d)"
   ]
  },
  {
   "cell_type": "code",
   "execution_count": 3,
   "id": "500abf2e",
   "metadata": {},
   "outputs": [
    {
     "name": "stdout",
     "output_type": "stream",
     "text": [
      "{'n1': [1, 2, 3]}\n",
      "{'n2': [1, 2, 5]}\n",
      "{'n3': [2, 3, 4]}\n"
     ]
    }
   ],
   "source": [
    "n={'n1': [2, 3, 1], 'n2': [5, 1, 2], 'n3': [3, 2, 4]}\n",
    "#     - output : {'n1': [1, 2, 3], 'n2': [1, 2, 5], 'n3': [2, 3, 4]}\n",
    "for i, j in n.items():\n",
    "    sorted_n ={i:sorted(j)}\n",
    "    print(sorted_n)"
   ]
  },
  {
   "cell_type": "code",
   "execution_count": 5,
   "id": "b26c14b6",
   "metadata": {},
   "outputs": [
    {
     "name": "stdout",
     "output_type": "stream",
     "text": [
      "5624\n",
      "4321\n",
      "5465\n"
     ]
    }
   ],
   "source": [
    "#Write a pattern to display 4 digit numbers from list1.\n",
    "import re\n",
    "list1 = [\"5624\", \"532145698\", \"5321456\", \"4321\", \"675\", \"5465\"]\n",
    "for numbers in list1:\n",
    "    if re.findall('^[0-9]{4}$',numbers):\n",
    "        print(numbers)"
   ]
  },
  {
   "cell_type": "code",
   "execution_count": null,
   "id": "7c969b4a",
   "metadata": {},
   "outputs": [],
   "source": [
    "#Validate a phone number using patterns. Try to do this task using below pattern or your own pattern.\n",
    "ph_list = ['9347702057', '8123456789', '7890123456', '789654', '1234567890']\n",
    "for phonenum in ph_list:\n",
    "    if re.findall('[6-9]{1}[0-9]{9}$',phonenum):\n",
    "        print(phonenum)"
   ]
  }
 ],
 "metadata": {
  "kernelspec": {
   "display_name": "Python 3",
   "language": "python",
   "name": "python3"
  },
  "language_info": {
   "codemirror_mode": {
    "name": "ipython",
    "version": 3
   },
   "file_extension": ".py",
   "mimetype": "text/x-python",
   "name": "python",
   "nbconvert_exporter": "python",
   "pygments_lexer": "ipython3",
   "version": "3.8.8"
  }
 },
 "nbformat": 4,
 "nbformat_minor": 5
}
