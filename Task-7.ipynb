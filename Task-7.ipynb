{
 "cells": [
  {
   "cell_type": "code",
   "execution_count": 1,
   "id": "e4cab398",
   "metadata": {},
   "outputs": [
    {
     "name": "stdout",
     "output_type": "stream",
     "text": [
      "Enter starting year: 1800\n",
      "enter ending year: 1900\n",
      "The leap years between given range are: \n",
      "1804\t1808\t1812\t1816\t1820\t1824\t1828\t1832\t1836\t1840\t1844\t1848\t1852\t1856\t1860\t1864\t1868\t1872\t1876\t1880\t1884\t1888\t1892\t1896\t"
     ]
    }
   ],
   "source": [
    "#create a function for finding the leap years within the given range.\n",
    "def leap_year():\n",
    "    s=int(input(\"Enter starting year: \"))\n",
    "    e=int(input(\"enter ending year: \"))\n",
    "    print(\"The leap years between given range are: \")\n",
    "    for i in range(s,e+1):\n",
    "        if(i%4==0 and i%100!=0) or (i%400==0):\n",
    "            print(i,end=\"\\t\")\n",
    "leap_year()"
   ]
  },
  {
   "cell_type": "code",
   "execution_count": 2,
   "id": "12a03e86",
   "metadata": {},
   "outputs": [
    {
     "name": "stdout",
     "output_type": "stream",
     "text": [
      "starting number :100\n",
      "ending number: 200\n",
      "The armstrong number between given range are:\n",
      "125\n",
      "153\n"
     ]
    }
   ],
   "source": [
    "#Create a function for getting the armstrong numbers within the given range.\n",
    "def armstrong():\n",
    "    s=int(input(\"starting number :\"))\n",
    "    e= int(input(\"ending number: \"))\n",
    "    print(\"The armstrong number between given range are:\")\n",
    "    for i in range(s,e+1):\n",
    "        sum=0\n",
    "        temp=i\n",
    "        while temp>0:\n",
    "            digit=temp%10\n",
    "            sum=sum+digit**3\n",
    "            temp=temp//10\n",
    "            if i==sum:\n",
    "                print(i)\n",
    "armstrong()"
   ]
  },
  {
   "cell_type": "code",
   "execution_count": 3,
   "id": "c3157687",
   "metadata": {},
   "outputs": [
    {
     "name": "stdout",
     "output_type": "stream",
     "text": [
      "starting number :1\n",
      "ending number: 100\n",
      "The prime numbers between given range are:\n",
      "1 2 3 5 7 11 13 17 19 23 29 31 37 41 43 47 53 59 61 67 71 73 79 83 89 97 "
     ]
    }
   ],
   "source": [
    "#create a function for getting the prime numbers within the range.\n",
    "def prime():\n",
    "    s=int(input(\"starting number :\"))\n",
    "    e= int(input(\"ending number: \"))\n",
    "    print(\"The prime numbers between given range are:\")\n",
    "    for n in range(s,e+1):\n",
    "            if all(n%i!=0 for i in range(2,n)):\n",
    "                print(n,end=\" \")\n",
    "prime()"
   ]
  },
  {
   "cell_type": "code",
   "execution_count": null,
   "id": "5edc0f93",
   "metadata": {},
   "outputs": [],
   "source": []
  }
 ],
 "metadata": {
  "kernelspec": {
   "display_name": "Python 3",
   "language": "python",
   "name": "python3"
  },
  "language_info": {
   "codemirror_mode": {
    "name": "ipython",
    "version": 3
   },
   "file_extension": ".py",
   "mimetype": "text/x-python",
   "name": "python",
   "nbconvert_exporter": "python",
   "pygments_lexer": "ipython3",
   "version": "3.8.8"
  }
 },
 "nbformat": 4,
 "nbformat_minor": 5
}
