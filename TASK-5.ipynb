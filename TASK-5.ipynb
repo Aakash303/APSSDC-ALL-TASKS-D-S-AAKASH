{
 "cells": [
  {
   "cell_type": "code",
   "execution_count": 1,
   "id": "bb74ddc4",
   "metadata": {},
   "outputs": [
    {
     "name": "stdout",
     "output_type": "stream",
     "text": [
      "{1: 1, 2: 4, 3: 9, 4: 16, 5: 25, 6: 36, 7: 49, 8: 64, 9: 81, 10: 100, 11: 121, 12: 144, 13: 169, 14: 196, 15: 225}\n"
     ]
    }
   ],
   "source": [
    "#Write a Python script to print a dictionary where the keys are numbers between 1 and 15 (both included) and the values are square of keys\n",
    "d1={}\n",
    "for i in range(1,16):\n",
    "    d1[i]=i*i\n",
    "print(d1)"
   ]
  },
  {
   "cell_type": "code",
   "execution_count": 2,
   "id": "7380431c",
   "metadata": {},
   "outputs": [
    {
     "name": "stdout",
     "output_type": "stream",
     "text": [
      "Enter the number of elements in the dictionary: 3\n",
      "enter the keys:1\n",
      "enter the keys:2\n",
      "enter the keys:3\n",
      "enter the values:aakash\n",
      "enter the values:boss\n",
      "enter the values:don\n",
      "['1', '2', '3'] ['aakash', 'boss', 'don']\n",
      "{'1': 'aakash', '2': 'boss', '3': 'don'}\n"
     ]
    }
   ],
   "source": [
    "#Write a Python program to map two lists into a dictionary\n",
    "n=int(input(\"Enter the number of elements in the dictionary: \"))\n",
    "keys=[]\n",
    "values=[]\n",
    "for i in range (0,n):\n",
    "    a=input(\"enter the keys:\")\n",
    "    keys.append(a)\n",
    "for j in range (0,n):\n",
    "    b=input(\"enter the values:\")\n",
    "    values.append(b)\n",
    "print(keys,values)\n",
    "print({keys[i]:values[i] for i in range (n)})"
   ]
  },
  {
   "cell_type": "code",
   "execution_count": null,
   "id": "65c43b49",
   "metadata": {},
   "outputs": [],
   "source": []
  }
 ],
 "metadata": {
  "kernelspec": {
   "display_name": "Python 3",
   "language": "python",
   "name": "python3"
  },
  "language_info": {
   "codemirror_mode": {
    "name": "ipython",
    "version": 3
   },
   "file_extension": ".py",
   "mimetype": "text/x-python",
   "name": "python",
   "nbconvert_exporter": "python",
   "pygments_lexer": "ipython3",
   "version": "3.8.8"
  }
 },
 "nbformat": 4,
 "nbformat_minor": 5
}
